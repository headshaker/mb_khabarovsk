{
 "cells": [
  {
   "cell_type": "markdown",
   "metadata": {},
   "source": [
    "# Фамилия, Имя, Отчество"
   ]
  },
  {
   "cell_type": "code",
   "execution_count": 1,
   "metadata": {},
   "outputs": [],
   "source": [
    "import pandas as pd\n",
    "import json\n",
    "import plotly.express as px\n",
    "from tqdm import tqdm_notebook"
   ]
  },
  {
   "cell_type": "code",
   "execution_count": 2,
   "metadata": {},
   "outputs": [],
   "source": [
    "# Prepare and filter data\n",
    "df = pd.read_csv('data/mb_khabarovsk.csv')\n",
    "dfw = df[['id', 'name', 'name_variants']].copy()\n",
    "del df\n",
    "dfw = dfw.fillna('')"
   ]
  },
  {
   "cell_type": "code",
   "execution_count": 3,
   "metadata": {},
   "outputs": [],
   "source": [
    "# Create temporary dataframe for names\n",
    "dfn = pd.DataFrame()\n",
    "dfn['имя'] = ''\n",
    "dfn['отчество'] = ''\n",
    "dfn['фамилия'] = ''\n",
    "dfn['основное'] = True\n",
    "dfn['id'] = 0"
   ]
  },
  {
   "cell_type": "code",
   "execution_count": 4,
   "metadata": {},
   "outputs": [],
   "source": [
    "# Load processed nationalities\n",
    "dft = pd.read_csv('data/nationality.csv')\n",
    "dfw = dfw.merge(dft, how='left', on=\"id\")\n",
    "del dft"
   ]
  },
  {
   "cell_type": "code",
   "execution_count": 5,
   "metadata": {},
   "outputs": [],
   "source": [
    "# Load hand-prepared replacement list\n",
    "with open('replacements/names.json') as json_file:\n",
    "    replacements = json.load(json_file)"
   ]
  },
  {
   "cell_type": "code",
   "execution_count": 6,
   "metadata": {},
   "outputs": [],
   "source": [
    "# Proceed replacements\n",
    "for repl in replacements:\n",
    "    dfw.loc[dfw['id'] == repl[0], ['name', 'name_variants']] = [repl[1], repl[2]]"
   ]
  },
  {
   "cell_type": "code",
   "execution_count": 7,
   "metadata": {},
   "outputs": [],
   "source": [
    "# Proceed Chinese, Nanais\n",
    "for i, row in dfw[(dfw['национальность'].isin(['Китайцы', 'Нанайцы']))].iterrows():\n",
    "    \n",
    "    if row['id'] in [x[0] for x in replacements]:\n",
    "        x = row['name'].split(' ')\n",
    "    \n",
    "    else:  \n",
    "        x = row['name'].replace('-', ' ').replace('  ', ' ').replace('  ', ' ').split(' ')\n",
    "    \n",
    "\n",
    "    if len(x) == 2:\n",
    "        \n",
    "        dfn = dfn.append({\n",
    "            'фамилия'   : x[0],\n",
    "            'имя'  : x[1],\n",
    "            'отчество' : pd.np.nan,\n",
    "            'основное': True,\n",
    "            'id': row['id']\n",
    "        }, ignore_index=True)\n",
    "        \n",
    "        continue\n",
    "        \n",
    "        \n",
    "    if len(x) == 1:\n",
    "        \n",
    "        dfn = dfn.append({\n",
    "            'фамилия'   : x[0],\n",
    "            'имя'  : pd.np.nan,\n",
    "            'отчество' : pd.np.nan,\n",
    "            'основное': True,\n",
    "            'id': row['id']\n",
    "        }, ignore_index=True)\n",
    "        \n",
    "        continue\n",
    "    \n",
    "    if (len(x[0]) > 4) & (len(x[2]) > 4):\n",
    "        \n",
    "        dfn = dfn.append({\n",
    "            'фамилия'   : x[0],\n",
    "            'имя'  : x[1],\n",
    "            'отчество' : x[2],\n",
    "            'основное': True,\n",
    "            'id': row['id']\n",
    "        }, ignore_index=True)\n",
    "        \n",
    "        \n",
    "    elif (len(x[1]) > 3) & (len(x[2]) > 4) & (x[2][-1] != 'ь'):\n",
    "        \n",
    "        dfn = dfn.append({\n",
    "            'фамилия'   : x[0],\n",
    "            'имя'  : x[1],\n",
    "            'отчество' : x[2],\n",
    "            'основное': True,\n",
    "            'id': row['id']\n",
    "        }, ignore_index=True)\n",
    "\n",
    "        \n",
    "    else:\n",
    "        dfn = dfn.append({\n",
    "            'фамилия'   : x[0],\n",
    "            'имя'  : x[1] + ' ' + x[2],\n",
    "            'отчество' : pd.np.nan,\n",
    "            'основное': True,\n",
    "            'id': row['id']\n",
    "        }, ignore_index=True)"
   ]
  },
  {
   "cell_type": "code",
   "execution_count": 8,
   "metadata": {},
   "outputs": [],
   "source": [
    "# Proceed Korean\n",
    "for i, row in dfw[dfw['национальность'].isin(['Корейцы'])].iterrows():\n",
    "    \n",
    "    if row['id'] in [x[0] for x in replacements]:\n",
    "        x = row['name'].split(' ')\n",
    "    else:    \n",
    "        x = row['name'].replace('-', ' ').replace('  ', ' ').replace('  ', ' ').split(' ')\n",
    "    \n",
    "    if (len(x) == 3) & (len(x[-1]) > 4)  & (x[-1][-1] != 'ь'):\n",
    "        \n",
    "        dfn = dfn.append({\n",
    "            'фамилия'   : x[0],\n",
    "            'имя'  : x[1],\n",
    "            'отчество' : x[2],\n",
    "            'основное': True,\n",
    "            'id': row['id']\n",
    "        }, ignore_index=True)\n",
    "        \n",
    "    elif (len(x) == 3):\n",
    "        \n",
    "        dfn = dfn.append({\n",
    "            'фамилия'   : x[0],\n",
    "            'имя'  : x[1] + ' ' + x[2],\n",
    "            'отчество' : pd.np.nan,\n",
    "            'основное': True,\n",
    "            'id': row['id']\n",
    "        }, ignore_index=True)\n",
    "\n",
    "    elif (len(x) == 2):\n",
    "        dfn = dfn.append({\n",
    "            'фамилия'   : x[0],\n",
    "            'имя'  : x[1],\n",
    "            'отчество' : pd.np.nan,\n",
    "            'основное': True,\n",
    "            'id': row['id']\n",
    "        }, ignore_index=True)\n",
    "    else:\n",
    "        raise ValueError"
   ]
  },
  {
   "cell_type": "code",
   "execution_count": 9,
   "metadata": {},
   "outputs": [],
   "source": [
    "# All other with nationality marked\n",
    "\n",
    "not_ch = [x for x in dfw['национальность'].unique() if x not in ['Китайцы', \n",
    "                                                                   'Нанайцы', \n",
    "                                                                   'Корейцы', \n",
    "                                                                   'Японцы', \n",
    "                                                                   pd.np.nan]]\n",
    "for i, row in dfw[(dfw['национальность'].isin(not_ch))].iterrows():\n",
    "    \n",
    "    x = row['name'].strip().split(' ')\n",
    "    \n",
    "    if (len(x) == 3) & ~((x[-1][-3:] in ['вна', 'вич', 'ьич', 'мич', 'чна', 'тич', 'кич', 'шич', 'шна', 'дич', 'нич', 'лыч', 'лич'])):\n",
    "        \n",
    "        dfn = dfn.append({\n",
    "            'фамилия'   : x[0],\n",
    "            'имя'  : x[1] + ' ' + x[2],\n",
    "            'отчество' : pd.np.nan,\n",
    "            'основное': True,\n",
    "            'id': row['id']\n",
    "        }, ignore_index=True)\n",
    "        \n",
    "    elif (len(x) == 3):\n",
    "        \n",
    "        dfn = dfn.append({\n",
    "            'фамилия'   : x[0],\n",
    "            'имя'  : x[1],\n",
    "            'отчество' : x[2],\n",
    "            'основное': True,\n",
    "            'id': row['id']\n",
    "        }, ignore_index=True)\n",
    "        \n",
    "    elif (len(x) == 2):\n",
    "        \n",
    "        dfn = dfn.append({\n",
    "            'фамилия'   : x[0],\n",
    "            'имя'  : x[1],\n",
    "            'отчество' : pd.np.nan,\n",
    "            'основное': True,\n",
    "            'id': row['id']\n",
    "        }, ignore_index=True)\n",
    "        \n",
    "    elif (len(x) == 1):\n",
    "        \n",
    "         dfn = dfn.append({\n",
    "            'фамилия'   : x[0],\n",
    "            'имя'  : pd.np.nan,\n",
    "            'отчество' : pd.np.nan,\n",
    "            'основное': True,\n",
    "            'id': row['id']\n",
    "        }, ignore_index=True)\n",
    "            \n",
    "    else:\n",
    "        raise ValueError "
   ]
  },
  {
   "cell_type": "code",
   "execution_count": 10,
   "metadata": {},
   "outputs": [],
   "source": [
    "# Procced null nationalities that are not in names\n",
    "for i, row in dfw[(dfw['национальность'].isnull())].iterrows():\n",
    "    \n",
    "    if row['id'] in dfn['id']:\n",
    "        continue\n",
    "    \n",
    "    x = row['name'].strip().split(' ')\n",
    "    \n",
    "    if (len(x) == 3) & ~((x[-1][-3:] in ['вна', 'вич', 'ьич', 'мич', 'чна', 'тич', 'кич', 'шич', 'шна', 'дич', 'нич', 'лыч', 'лич'])):\n",
    "        \n",
    "        dfn = dfn.append({\n",
    "            'фамилия'   : x[0],\n",
    "            'имя'  : x[1] + ' ' + x[2],\n",
    "            'отчество' : pd.np.nan,\n",
    "            'основное': True,\n",
    "            'id': row['id']\n",
    "        }, ignore_index=True)\n",
    "    \n",
    "    elif (len(x) == 3):\n",
    "        \n",
    "        dfn = dfn.append({\n",
    "            'фамилия'   : x[0],\n",
    "            'имя'  : x[1],\n",
    "            'отчество' : x[2],\n",
    "            'основное': True,\n",
    "            'id': row['id']\n",
    "        }, ignore_index=True)\n",
    "    \n",
    "    elif (len(x) == 2):\n",
    "        \n",
    "        dfn = dfn.append({\n",
    "            'фамилия'   : x[0],\n",
    "            'имя'  : x[1],\n",
    "            'отчество' : pd.np.nan,\n",
    "            'основное': True,\n",
    "            'id': row['id']\n",
    "        }, ignore_index=True)\n",
    "        \n",
    "    elif (len(x) == 1):\n",
    "        \n",
    "        dfn = dfn.append({\n",
    "            'фамилия'   : x[0],\n",
    "            'имя'  : pd.np.nan,\n",
    "            'отчество' : pd.np.nan,\n",
    "            'основное': True,\n",
    "            'id': row['id']\n",
    "        }, ignore_index=True)\n",
    "        \n",
    "    else:\n",
    "        raise ValueError"
   ]
  },
  {
   "cell_type": "code",
   "execution_count": 11,
   "metadata": {},
   "outputs": [],
   "source": [
    "for i, row in dfw[~(dfw['id'].isin(dfn['id']))].iterrows():\n",
    "    \n",
    "    x = row['name'].strip().split(' ')\n",
    "    \n",
    "    if (len(x) == 3) & ~((x[-1][-3:] in ['вна', 'вич', 'ьич', 'мич', 'чна', 'тич', 'кич', 'шич', 'шна', 'дич', 'нич', 'лыч', 'лич'])):\n",
    "        \n",
    "        dfn = dfn.append({\n",
    "            'фамилия'   : x[0],\n",
    "            'имя'  : x[1] + ' ' + x[2],\n",
    "            'отчество' : pd.np.nan,\n",
    "            'основное': True,\n",
    "            'id': row['id']\n",
    "        }, ignore_index=True)\n",
    "    \n",
    "    elif (len(x) == 3):\n",
    "        \n",
    "        dfn = dfn.append({\n",
    "            'фамилия'   : x[0],\n",
    "            'имя'  : x[1],\n",
    "            'отчество' : x[2],\n",
    "            'основное': True,\n",
    "            'id': row['id']\n",
    "        }, ignore_index=True)\n",
    "    \n",
    "    elif (len(x) == 2):\n",
    "        \n",
    "        dfn = dfn.append({\n",
    "            'фамилия'   : x[0],\n",
    "            'имя'  : x[1],\n",
    "            'отчество' : pd.np.nan,\n",
    "            'основное': True,\n",
    "            'id': row['id']\n",
    "        }, ignore_index=True)\n",
    "        \n",
    "    elif (len(x) == 1):\n",
    "        \n",
    "        dfn = dfn.append({\n",
    "            'фамилия'   : x[0],\n",
    "            'имя'  : pd.np.nan,\n",
    "            'отчество' : pd.np.nan,\n",
    "            'основное': True,\n",
    "            'id': row['id']\n",
    "        }, ignore_index=True)\n",
    "        \n",
    "    else:\n",
    "        raise ValueError"
   ]
  },
  {
   "cell_type": "code",
   "execution_count": 18,
   "metadata": {},
   "outputs": [
    {
     "data": {
      "text/html": [
       "<div>\n",
       "<style scoped>\n",
       "    .dataframe tbody tr th:only-of-type {\n",
       "        vertical-align: middle;\n",
       "    }\n",
       "\n",
       "    .dataframe tbody tr th {\n",
       "        vertical-align: top;\n",
       "    }\n",
       "\n",
       "    .dataframe thead th {\n",
       "        text-align: right;\n",
       "    }\n",
       "</style>\n",
       "<table border=\"1\" class=\"dataframe\">\n",
       "  <thead>\n",
       "    <tr style=\"text-align: right;\">\n",
       "      <th></th>\n",
       "      <th>id</th>\n",
       "      <th>name</th>\n",
       "      <th>name_variants</th>\n",
       "      <th>национальность</th>\n",
       "      <th>имя</th>\n",
       "    </tr>\n",
       "  </thead>\n",
       "  <tbody>\n",
       "  </tbody>\n",
       "</table>\n",
       "</div>"
      ],
      "text/plain": [
       "Empty DataFrame\n",
       "Columns: [id, name, name_variants, национальность, имя]\n",
       "Index: []"
      ]
     },
     "execution_count": 18,
     "metadata": {},
     "output_type": "execute_result"
    }
   ],
   "source": [
    "# Check for missing or non-clean values\n",
    "dft = dfw.merge(dfn[['id', 'имя']], how='left', on='id')\n",
    "dft[~(dft['name'] == '') & (dft['имя'] == '')]"
   ]
  },
  {
   "cell_type": "code",
   "execution_count": 19,
   "metadata": {},
   "outputs": [],
   "source": [
    "# Creat temp dataframe for name variants\n",
    "\n",
    "dfnv = pd.DataFrame()\n",
    "dfnv['имя'] = ''\n",
    "dfnv['отчество'] = ''\n",
    "dfnv['фамилия'] = ''\n",
    "dfnv['основное'] = False\n",
    "dfnv['id'] = 0"
   ]
  },
  {
   "cell_type": "code",
   "execution_count": 20,
   "metadata": {},
   "outputs": [],
   "source": [
    "for i, row in dfw[(dfw['name_variants'] != '')].iterrows():\n",
    "    \n",
    "    if isinstance(row['name_variants'], float):\n",
    "        continue\n",
    "        \n",
    "    x = row['name_variants'].split(' ')\n",
    "    x[-1] = x[-1].replace(',', '')\n",
    "    y = row['name'].split(' ')\n",
    "    \n",
    "    if (len(x) == 3) & (len(y) == 3) & ~((x[-1][-3:] in ['вна', 'вич', 'ьич', 'мич', 'чна', 'тич', 'кич', 'шич', 'шна', 'дич', 'нич', 'лыч', 'лич'])):\n",
    "        \n",
    "        dfnv = dfnv.append({\n",
    "            'фамилия'   : x[0],\n",
    "            'имя'  : x[1] + ' ' + x[2],\n",
    "            'отчество' : pd.np.nan,\n",
    "            'основное': False,\n",
    "            'id': row['id']\n",
    "        }, ignore_index=True)\n",
    "    \n",
    "    elif (len(x) == 3) & (len(y) == 3):\n",
    "        \n",
    "        dfnv = dfnv.append({\n",
    "            'фамилия'   : x[0],\n",
    "            'имя'  : x[1],\n",
    "            'отчество' : x[2],\n",
    "            'основное': False,\n",
    "            'id': row['id']\n",
    "        }, ignore_index=True)\n",
    "    \n",
    "    elif (len(x) == 2) & (len(y) == 2):\n",
    "        \n",
    "        dfnv = dfnv.append({\n",
    "            'фамилия'   : x[0],\n",
    "            'имя'  : x[1],\n",
    "            'отчество' : pd.np.nan,\n",
    "            'основное': False,\n",
    "            'id': row['id']\n",
    "        }, ignore_index=True)"
   ]
  },
  {
   "cell_type": "code",
   "execution_count": 21,
   "metadata": {},
   "outputs": [],
   "source": [
    "for i, row in dfw[(dfw['name_variants'] != '') & ~(dfw['id'].isin(dfnv['id']))].iterrows():\n",
    "    \n",
    "    if isinstance(row['name_variants'], float):\n",
    "        continue\n",
    "    name_vars = row['name_variants'].strip().split(', ')\n",
    "    \n",
    "    for name_var in name_vars:\n",
    "        x = name_var.strip().split(' ')\n",
    "        x[-1] = x[-1].replace(',', '')\n",
    "        \n",
    "        if (len(x) == 3) & ~((x[-1][-3:] in ['вна', 'вич', 'ьич', 'мич', 'чна', 'тич', 'кич', 'шич', 'шна', 'дич', 'нич', 'лыч', 'лич'])):\n",
    "            \n",
    "            dfnv = dfnv.append({\n",
    "                'фамилия'   : x[0],\n",
    "                'имя'  : x[1] + ' ' + x[2],\n",
    "                'отчество' : pd.np.nan,\n",
    "                'основное': False,\n",
    "                'id': row['id']\n",
    "            }, ignore_index=True)\n",
    "            \n",
    "        elif (len(x) == 3):\n",
    "            \n",
    "            dfnv = dfnv.append({\n",
    "                'фамилия'   : x[0],\n",
    "                'имя'  : x[1],\n",
    "                'отчество' : x[2],\n",
    "                'основное': False,\n",
    "                'id': row['id']\n",
    "            }, ignore_index=True)\n",
    "            \n",
    "        elif (len(x) == 2):\n",
    "            \n",
    "            dfnv = dfnv.append({\n",
    "                'фамилия'   : x[0],\n",
    "                'имя'  : x[1],\n",
    "                'отчество' : pd.np.nan,\n",
    "                'основное': False,\n",
    "                'id': row['id']\n",
    "            }, ignore_index=True)\n",
    "            \n",
    "        elif (len(x) == 1):\n",
    "            \n",
    "            dfnv = dfnv.append({\n",
    "                'фамилия'   : x[0],\n",
    "                'имя'  : pd.np.nan,\n",
    "                'отчество' : pd.np.nan,\n",
    "                'основное': False,\n",
    "                'id': row['id']\n",
    "            }, ignore_index=True)\n",
    "            \n",
    "        else:\n",
    "            print(row['id'], row['name'], '|', row['name_variants'])\n",
    "\n"
   ]
  },
  {
   "cell_type": "code",
   "execution_count": 22,
   "metadata": {},
   "outputs": [],
   "source": [
    "# join names and name variants dataframe\n",
    "dfn = dfn.append(dfnv, ignore_index=True)"
   ]
  },
  {
   "cell_type": "code",
   "execution_count": 24,
   "metadata": {},
   "outputs": [],
   "source": [
    "dfn = dfn.fillna('')"
   ]
  },
  {
   "cell_type": "code",
   "execution_count": 26,
   "metadata": {},
   "outputs": [],
   "source": [
    "# Save result to csv\n",
    "dfn.to_csv('data/names.csv', index=False)"
   ]
  },
  {
   "cell_type": "code",
   "execution_count": 48,
   "metadata": {},
   "outputs": [
    {
     "data": {
      "application/vnd.plotly.v1+json": {
       "config": {
        "plotlyServerURL": "https://plot.ly"
       },
       "data": [
        {
         "alignmentgroup": "True",
         "hovertemplate": "имя=%{x}<br>количество=%{y}<extra></extra>",
         "legendgroup": "",
         "marker": {
          "color": "#636efa"
         },
         "name": "",
         "offsetgroup": "",
         "orientation": "v",
         "showlegend": false,
         "textposition": "auto",
         "type": "bar",
         "x": [
          "Иван",
          "Николай",
          "Василий",
          "Александр",
          "Михаил",
          "Петр",
          "Федор",
          "Григорий",
          "Павел",
          "Алексей",
          "Владимир",
          "Андрей",
          "Яков",
          "Дмитрий",
          "Сергей",
          "Семен",
          "Георгий",
          "Степан",
          "Мария",
          "Константин",
          "Анна",
          "Виктор",
          "Иосиф",
          "Борис",
          "Илья",
          "Антон",
          "Тимофей",
          "Анатолий",
          "Афанасий",
          "Иннокентий",
          "Ольга",
          "Ефим",
          "Егор",
          "Никита",
          "Максим",
          "Леонид",
          "Александра",
          "Евгений",
          "Екатерина",
          "Нина",
          "Елена",
          "Надежда",
          "Вера",
          "Филипп",
          "Татьяна",
          "Кузьма",
          "Кирилл",
          "Роман",
          "Лидия",
          "Гавриил"
         ],
         "xaxis": "x",
         "y": [
          1939,
          1194,
          1188,
          1063,
          1034,
          862,
          694,
          631,
          625,
          564,
          493,
          463,
          427,
          415,
          400,
          386,
          374,
          368,
          364,
          343,
          263,
          234,
          220,
          214,
          213,
          179,
          173,
          152,
          151,
          142,
          137,
          135,
          132,
          131,
          129,
          128,
          127,
          123,
          120,
          118,
          117,
          114,
          113,
          110,
          109,
          99,
          97,
          96,
          94,
          93
         ],
         "yaxis": "y"
        }
       ],
       "layout": {
        "autosize": true,
        "barmode": "relative",
        "legend": {
         "tracegroupgap": 0
        },
        "template": {
         "data": {
          "bar": [
           {
            "error_x": {
             "color": "#2a3f5f"
            },
            "error_y": {
             "color": "#2a3f5f"
            },
            "marker": {
             "line": {
              "color": "#E5ECF6",
              "width": 0.5
             }
            },
            "type": "bar"
           }
          ],
          "barpolar": [
           {
            "marker": {
             "line": {
              "color": "#E5ECF6",
              "width": 0.5
             }
            },
            "type": "barpolar"
           }
          ],
          "carpet": [
           {
            "aaxis": {
             "endlinecolor": "#2a3f5f",
             "gridcolor": "white",
             "linecolor": "white",
             "minorgridcolor": "white",
             "startlinecolor": "#2a3f5f"
            },
            "baxis": {
             "endlinecolor": "#2a3f5f",
             "gridcolor": "white",
             "linecolor": "white",
             "minorgridcolor": "white",
             "startlinecolor": "#2a3f5f"
            },
            "type": "carpet"
           }
          ],
          "choropleth": [
           {
            "colorbar": {
             "outlinewidth": 0,
             "ticks": ""
            },
            "type": "choropleth"
           }
          ],
          "contour": [
           {
            "colorbar": {
             "outlinewidth": 0,
             "ticks": ""
            },
            "colorscale": [
             [
              0,
              "#0d0887"
             ],
             [
              0.1111111111111111,
              "#46039f"
             ],
             [
              0.2222222222222222,
              "#7201a8"
             ],
             [
              0.3333333333333333,
              "#9c179e"
             ],
             [
              0.4444444444444444,
              "#bd3786"
             ],
             [
              0.5555555555555556,
              "#d8576b"
             ],
             [
              0.6666666666666666,
              "#ed7953"
             ],
             [
              0.7777777777777778,
              "#fb9f3a"
             ],
             [
              0.8888888888888888,
              "#fdca26"
             ],
             [
              1,
              "#f0f921"
             ]
            ],
            "type": "contour"
           }
          ],
          "contourcarpet": [
           {
            "colorbar": {
             "outlinewidth": 0,
             "ticks": ""
            },
            "type": "contourcarpet"
           }
          ],
          "heatmap": [
           {
            "colorbar": {
             "outlinewidth": 0,
             "ticks": ""
            },
            "colorscale": [
             [
              0,
              "#0d0887"
             ],
             [
              0.1111111111111111,
              "#46039f"
             ],
             [
              0.2222222222222222,
              "#7201a8"
             ],
             [
              0.3333333333333333,
              "#9c179e"
             ],
             [
              0.4444444444444444,
              "#bd3786"
             ],
             [
              0.5555555555555556,
              "#d8576b"
             ],
             [
              0.6666666666666666,
              "#ed7953"
             ],
             [
              0.7777777777777778,
              "#fb9f3a"
             ],
             [
              0.8888888888888888,
              "#fdca26"
             ],
             [
              1,
              "#f0f921"
             ]
            ],
            "type": "heatmap"
           }
          ],
          "heatmapgl": [
           {
            "colorbar": {
             "outlinewidth": 0,
             "ticks": ""
            },
            "colorscale": [
             [
              0,
              "#0d0887"
             ],
             [
              0.1111111111111111,
              "#46039f"
             ],
             [
              0.2222222222222222,
              "#7201a8"
             ],
             [
              0.3333333333333333,
              "#9c179e"
             ],
             [
              0.4444444444444444,
              "#bd3786"
             ],
             [
              0.5555555555555556,
              "#d8576b"
             ],
             [
              0.6666666666666666,
              "#ed7953"
             ],
             [
              0.7777777777777778,
              "#fb9f3a"
             ],
             [
              0.8888888888888888,
              "#fdca26"
             ],
             [
              1,
              "#f0f921"
             ]
            ],
            "type": "heatmapgl"
           }
          ],
          "histogram": [
           {
            "marker": {
             "colorbar": {
              "outlinewidth": 0,
              "ticks": ""
             }
            },
            "type": "histogram"
           }
          ],
          "histogram2d": [
           {
            "colorbar": {
             "outlinewidth": 0,
             "ticks": ""
            },
            "colorscale": [
             [
              0,
              "#0d0887"
             ],
             [
              0.1111111111111111,
              "#46039f"
             ],
             [
              0.2222222222222222,
              "#7201a8"
             ],
             [
              0.3333333333333333,
              "#9c179e"
             ],
             [
              0.4444444444444444,
              "#bd3786"
             ],
             [
              0.5555555555555556,
              "#d8576b"
             ],
             [
              0.6666666666666666,
              "#ed7953"
             ],
             [
              0.7777777777777778,
              "#fb9f3a"
             ],
             [
              0.8888888888888888,
              "#fdca26"
             ],
             [
              1,
              "#f0f921"
             ]
            ],
            "type": "histogram2d"
           }
          ],
          "histogram2dcontour": [
           {
            "colorbar": {
             "outlinewidth": 0,
             "ticks": ""
            },
            "colorscale": [
             [
              0,
              "#0d0887"
             ],
             [
              0.1111111111111111,
              "#46039f"
             ],
             [
              0.2222222222222222,
              "#7201a8"
             ],
             [
              0.3333333333333333,
              "#9c179e"
             ],
             [
              0.4444444444444444,
              "#bd3786"
             ],
             [
              0.5555555555555556,
              "#d8576b"
             ],
             [
              0.6666666666666666,
              "#ed7953"
             ],
             [
              0.7777777777777778,
              "#fb9f3a"
             ],
             [
              0.8888888888888888,
              "#fdca26"
             ],
             [
              1,
              "#f0f921"
             ]
            ],
            "type": "histogram2dcontour"
           }
          ],
          "mesh3d": [
           {
            "colorbar": {
             "outlinewidth": 0,
             "ticks": ""
            },
            "type": "mesh3d"
           }
          ],
          "parcoords": [
           {
            "line": {
             "colorbar": {
              "outlinewidth": 0,
              "ticks": ""
             }
            },
            "type": "parcoords"
           }
          ],
          "pie": [
           {
            "automargin": true,
            "type": "pie"
           }
          ],
          "scatter": [
           {
            "marker": {
             "colorbar": {
              "outlinewidth": 0,
              "ticks": ""
             }
            },
            "type": "scatter"
           }
          ],
          "scatter3d": [
           {
            "line": {
             "colorbar": {
              "outlinewidth": 0,
              "ticks": ""
             }
            },
            "marker": {
             "colorbar": {
              "outlinewidth": 0,
              "ticks": ""
             }
            },
            "type": "scatter3d"
           }
          ],
          "scattercarpet": [
           {
            "marker": {
             "colorbar": {
              "outlinewidth": 0,
              "ticks": ""
             }
            },
            "type": "scattercarpet"
           }
          ],
          "scattergeo": [
           {
            "marker": {
             "colorbar": {
              "outlinewidth": 0,
              "ticks": ""
             }
            },
            "type": "scattergeo"
           }
          ],
          "scattergl": [
           {
            "marker": {
             "colorbar": {
              "outlinewidth": 0,
              "ticks": ""
             }
            },
            "type": "scattergl"
           }
          ],
          "scattermapbox": [
           {
            "marker": {
             "colorbar": {
              "outlinewidth": 0,
              "ticks": ""
             }
            },
            "type": "scattermapbox"
           }
          ],
          "scatterpolar": [
           {
            "marker": {
             "colorbar": {
              "outlinewidth": 0,
              "ticks": ""
             }
            },
            "type": "scatterpolar"
           }
          ],
          "scatterpolargl": [
           {
            "marker": {
             "colorbar": {
              "outlinewidth": 0,
              "ticks": ""
             }
            },
            "type": "scatterpolargl"
           }
          ],
          "scatterternary": [
           {
            "marker": {
             "colorbar": {
              "outlinewidth": 0,
              "ticks": ""
             }
            },
            "type": "scatterternary"
           }
          ],
          "surface": [
           {
            "colorbar": {
             "outlinewidth": 0,
             "ticks": ""
            },
            "colorscale": [
             [
              0,
              "#0d0887"
             ],
             [
              0.1111111111111111,
              "#46039f"
             ],
             [
              0.2222222222222222,
              "#7201a8"
             ],
             [
              0.3333333333333333,
              "#9c179e"
             ],
             [
              0.4444444444444444,
              "#bd3786"
             ],
             [
              0.5555555555555556,
              "#d8576b"
             ],
             [
              0.6666666666666666,
              "#ed7953"
             ],
             [
              0.7777777777777778,
              "#fb9f3a"
             ],
             [
              0.8888888888888888,
              "#fdca26"
             ],
             [
              1,
              "#f0f921"
             ]
            ],
            "type": "surface"
           }
          ],
          "table": [
           {
            "cells": {
             "fill": {
              "color": "#EBF0F8"
             },
             "line": {
              "color": "white"
             }
            },
            "header": {
             "fill": {
              "color": "#C8D4E3"
             },
             "line": {
              "color": "white"
             }
            },
            "type": "table"
           }
          ]
         },
         "layout": {
          "annotationdefaults": {
           "arrowcolor": "#2a3f5f",
           "arrowhead": 0,
           "arrowwidth": 1
          },
          "coloraxis": {
           "colorbar": {
            "outlinewidth": 0,
            "ticks": ""
           }
          },
          "colorscale": {
           "diverging": [
            [
             0,
             "#8e0152"
            ],
            [
             0.1,
             "#c51b7d"
            ],
            [
             0.2,
             "#de77ae"
            ],
            [
             0.3,
             "#f1b6da"
            ],
            [
             0.4,
             "#fde0ef"
            ],
            [
             0.5,
             "#f7f7f7"
            ],
            [
             0.6,
             "#e6f5d0"
            ],
            [
             0.7,
             "#b8e186"
            ],
            [
             0.8,
             "#7fbc41"
            ],
            [
             0.9,
             "#4d9221"
            ],
            [
             1,
             "#276419"
            ]
           ],
           "sequential": [
            [
             0,
             "#0d0887"
            ],
            [
             0.1111111111111111,
             "#46039f"
            ],
            [
             0.2222222222222222,
             "#7201a8"
            ],
            [
             0.3333333333333333,
             "#9c179e"
            ],
            [
             0.4444444444444444,
             "#bd3786"
            ],
            [
             0.5555555555555556,
             "#d8576b"
            ],
            [
             0.6666666666666666,
             "#ed7953"
            ],
            [
             0.7777777777777778,
             "#fb9f3a"
            ],
            [
             0.8888888888888888,
             "#fdca26"
            ],
            [
             1,
             "#f0f921"
            ]
           ],
           "sequentialminus": [
            [
             0,
             "#0d0887"
            ],
            [
             0.1111111111111111,
             "#46039f"
            ],
            [
             0.2222222222222222,
             "#7201a8"
            ],
            [
             0.3333333333333333,
             "#9c179e"
            ],
            [
             0.4444444444444444,
             "#bd3786"
            ],
            [
             0.5555555555555556,
             "#d8576b"
            ],
            [
             0.6666666666666666,
             "#ed7953"
            ],
            [
             0.7777777777777778,
             "#fb9f3a"
            ],
            [
             0.8888888888888888,
             "#fdca26"
            ],
            [
             1,
             "#f0f921"
            ]
           ]
          },
          "colorway": [
           "#636efa",
           "#EF553B",
           "#00cc96",
           "#ab63fa",
           "#FFA15A",
           "#19d3f3",
           "#FF6692",
           "#B6E880",
           "#FF97FF",
           "#FECB52"
          ],
          "font": {
           "color": "#2a3f5f"
          },
          "geo": {
           "bgcolor": "white",
           "lakecolor": "white",
           "landcolor": "#E5ECF6",
           "showlakes": true,
           "showland": true,
           "subunitcolor": "white"
          },
          "hoverlabel": {
           "align": "left"
          },
          "hovermode": "closest",
          "mapbox": {
           "style": "light"
          },
          "paper_bgcolor": "white",
          "plot_bgcolor": "#E5ECF6",
          "polar": {
           "angularaxis": {
            "gridcolor": "white",
            "linecolor": "white",
            "ticks": ""
           },
           "bgcolor": "#E5ECF6",
           "radialaxis": {
            "gridcolor": "white",
            "linecolor": "white",
            "ticks": ""
           }
          },
          "scene": {
           "xaxis": {
            "backgroundcolor": "#E5ECF6",
            "gridcolor": "white",
            "gridwidth": 2,
            "linecolor": "white",
            "showbackground": true,
            "ticks": "",
            "zerolinecolor": "white"
           },
           "yaxis": {
            "backgroundcolor": "#E5ECF6",
            "gridcolor": "white",
            "gridwidth": 2,
            "linecolor": "white",
            "showbackground": true,
            "ticks": "",
            "zerolinecolor": "white"
           },
           "zaxis": {
            "backgroundcolor": "#E5ECF6",
            "gridcolor": "white",
            "gridwidth": 2,
            "linecolor": "white",
            "showbackground": true,
            "ticks": "",
            "zerolinecolor": "white"
           }
          },
          "shapedefaults": {
           "line": {
            "color": "#2a3f5f"
           }
          },
          "ternary": {
           "aaxis": {
            "gridcolor": "white",
            "linecolor": "white",
            "ticks": ""
           },
           "baxis": {
            "gridcolor": "white",
            "linecolor": "white",
            "ticks": ""
           },
           "bgcolor": "#E5ECF6",
           "caxis": {
            "gridcolor": "white",
            "linecolor": "white",
            "ticks": ""
           }
          },
          "title": {
           "x": 0.05
          },
          "xaxis": {
           "automargin": true,
           "gridcolor": "white",
           "linecolor": "white",
           "ticks": "",
           "title": {
            "standoff": 15
           },
           "zerolinecolor": "white",
           "zerolinewidth": 2
          },
          "yaxis": {
           "automargin": true,
           "gridcolor": "white",
           "linecolor": "white",
           "ticks": "",
           "title": {
            "standoff": 15
           },
           "zerolinecolor": "white",
           "zerolinewidth": 2
          }
         }
        },
        "title": {
         "text": "Распределние репрессированных по имени (50 самых часто встречающихся)"
        },
        "xaxis": {
         "anchor": "y",
         "autorange": true,
         "domain": [
          0,
          1
         ],
         "range": [
          -0.5,
          49.5
         ],
         "title": {
          "text": "имя"
         },
         "type": "category"
        },
        "yaxis": {
         "anchor": "x",
         "autorange": true,
         "domain": [
          0,
          1
         ],
         "range": [
          0,
          2041.0526315789473
         ],
         "title": {
          "text": "количество"
         },
         "type": "linear"
        }
       }
      },
      "image/png": "[encoded data removed]",
      "text/html": [
       "<div>\n",
       "        \n",
       "        \n",
       "            <div id=\"784a7acb-afa0-4965-a1e1-f57b611ced5d\" class=\"plotly-graph-div\" style=\"height:525px; width:100%;\"></div>\n",
       "            <script type=\"text/javascript\">\n",
       "                require([\"plotly\"], function(Plotly) {\n",
       "                    window.PLOTLYENV=window.PLOTLYENV || {};\n",
       "                    \n",
       "                if (document.getElementById(\"784a7acb-afa0-4965-a1e1-f57b611ced5d\")) {\n",
       "                    Plotly.newPlot(\n",
       "                        '784a7acb-afa0-4965-a1e1-f57b611ced5d',\n",
       "                        [{\"alignmentgroup\": \"True\", \"hovertemplate\": \"\\u0438\\u043c\\u044f=%{x}<br>\\u043a\\u043e\\u043b\\u0438\\u0447\\u0435\\u0441\\u0442\\u0432\\u043e=%{y}<extra></extra>\", \"legendgroup\": \"\", \"marker\": {\"color\": \"#636efa\"}, \"name\": \"\", \"offsetgroup\": \"\", \"orientation\": \"v\", \"showlegend\": false, \"textposition\": \"auto\", \"type\": \"bar\", \"x\": [\"\\u0418\\u0432\\u0430\\u043d\", \"\\u041d\\u0438\\u043a\\u043e\\u043b\\u0430\\u0439\", \"\\u0412\\u0430\\u0441\\u0438\\u043b\\u0438\\u0439\", \"\\u0410\\u043b\\u0435\\u043a\\u0441\\u0430\\u043d\\u0434\\u0440\", \"\\u041c\\u0438\\u0445\\u0430\\u0438\\u043b\", \"\\u041f\\u0435\\u0442\\u0440\", \"\\u0424\\u0435\\u0434\\u043e\\u0440\", \"\\u0413\\u0440\\u0438\\u0433\\u043e\\u0440\\u0438\\u0439\", \"\\u041f\\u0430\\u0432\\u0435\\u043b\", \"\\u0410\\u043b\\u0435\\u043a\\u0441\\u0435\\u0439\", \"\\u0412\\u043b\\u0430\\u0434\\u0438\\u043c\\u0438\\u0440\", \"\\u0410\\u043d\\u0434\\u0440\\u0435\\u0439\", \"\\u042f\\u043a\\u043e\\u0432\", \"\\u0414\\u043c\\u0438\\u0442\\u0440\\u0438\\u0439\", \"\\u0421\\u0435\\u0440\\u0433\\u0435\\u0439\", \"\\u0421\\u0435\\u043c\\u0435\\u043d\", \"\\u0413\\u0435\\u043e\\u0440\\u0433\\u0438\\u0439\", \"\\u0421\\u0442\\u0435\\u043f\\u0430\\u043d\", \"\\u041c\\u0430\\u0440\\u0438\\u044f\", \"\\u041a\\u043e\\u043d\\u0441\\u0442\\u0430\\u043d\\u0442\\u0438\\u043d\", \"\\u0410\\u043d\\u043d\\u0430\", \"\\u0412\\u0438\\u043a\\u0442\\u043e\\u0440\", \"\\u0418\\u043e\\u0441\\u0438\\u0444\", \"\\u0411\\u043e\\u0440\\u0438\\u0441\", \"\\u0418\\u043b\\u044c\\u044f\", \"\\u0410\\u043d\\u0442\\u043e\\u043d\", \"\\u0422\\u0438\\u043c\\u043e\\u0444\\u0435\\u0439\", \"\\u0410\\u043d\\u0430\\u0442\\u043e\\u043b\\u0438\\u0439\", \"\\u0410\\u0444\\u0430\\u043d\\u0430\\u0441\\u0438\\u0439\", \"\\u0418\\u043d\\u043d\\u043e\\u043a\\u0435\\u043d\\u0442\\u0438\\u0439\", \"\\u041e\\u043b\\u044c\\u0433\\u0430\", \"\\u0415\\u0444\\u0438\\u043c\", \"\\u0415\\u0433\\u043e\\u0440\", \"\\u041d\\u0438\\u043a\\u0438\\u0442\\u0430\", \"\\u041c\\u0430\\u043a\\u0441\\u0438\\u043c\", \"\\u041b\\u0435\\u043e\\u043d\\u0438\\u0434\", \"\\u0410\\u043b\\u0435\\u043a\\u0441\\u0430\\u043d\\u0434\\u0440\\u0430\", \"\\u0415\\u0432\\u0433\\u0435\\u043d\\u0438\\u0439\", \"\\u0415\\u043a\\u0430\\u0442\\u0435\\u0440\\u0438\\u043d\\u0430\", \"\\u041d\\u0438\\u043d\\u0430\", \"\\u0415\\u043b\\u0435\\u043d\\u0430\", \"\\u041d\\u0430\\u0434\\u0435\\u0436\\u0434\\u0430\", \"\\u0412\\u0435\\u0440\\u0430\", \"\\u0424\\u0438\\u043b\\u0438\\u043f\\u043f\", \"\\u0422\\u0430\\u0442\\u044c\\u044f\\u043d\\u0430\", \"\\u041a\\u0443\\u0437\\u044c\\u043c\\u0430\", \"\\u041a\\u0438\\u0440\\u0438\\u043b\\u043b\", \"\\u0420\\u043e\\u043c\\u0430\\u043d\", \"\\u041b\\u0438\\u0434\\u0438\\u044f\", \"\\u0413\\u0430\\u0432\\u0440\\u0438\\u0438\\u043b\"], \"xaxis\": \"x\", \"y\": [1939, 1194, 1188, 1063, 1034, 862, 694, 631, 625, 564, 493, 463, 427, 415, 400, 386, 374, 368, 364, 343, 263, 234, 220, 214, 213, 179, 173, 152, 151, 142, 137, 135, 132, 131, 129, 128, 127, 123, 120, 118, 117, 114, 113, 110, 109, 99, 97, 96, 94, 93], \"yaxis\": \"y\"}],\n",
       "                        {\"barmode\": \"relative\", \"legend\": {\"tracegroupgap\": 0}, \"template\": {\"data\": {\"bar\": [{\"error_x\": {\"color\": \"#2a3f5f\"}, \"error_y\": {\"color\": \"#2a3f5f\"}, \"marker\": {\"line\": {\"color\": \"#E5ECF6\", \"width\": 0.5}}, \"type\": \"bar\"}], \"barpolar\": [{\"marker\": {\"line\": {\"color\": \"#E5ECF6\", \"width\": 0.5}}, \"type\": \"barpolar\"}], \"carpet\": [{\"aaxis\": {\"endlinecolor\": \"#2a3f5f\", \"gridcolor\": \"white\", \"linecolor\": \"white\", \"minorgridcolor\": \"white\", \"startlinecolor\": \"#2a3f5f\"}, \"baxis\": {\"endlinecolor\": \"#2a3f5f\", \"gridcolor\": \"white\", \"linecolor\": \"white\", \"minorgridcolor\": \"white\", \"startlinecolor\": \"#2a3f5f\"}, \"type\": \"carpet\"}], \"choropleth\": [{\"colorbar\": {\"outlinewidth\": 0, \"ticks\": \"\"}, \"type\": \"choropleth\"}], \"contour\": [{\"colorbar\": {\"outlinewidth\": 0, \"ticks\": \"\"}, \"colorscale\": [[0.0, \"#0d0887\"], [0.1111111111111111, \"#46039f\"], [0.2222222222222222, \"#7201a8\"], [0.3333333333333333, \"#9c179e\"], [0.4444444444444444, \"#bd3786\"], [0.5555555555555556, \"#d8576b\"], [0.6666666666666666, \"#ed7953\"], [0.7777777777777778, \"#fb9f3a\"], [0.8888888888888888, \"#fdca26\"], [1.0, \"#f0f921\"]], \"type\": \"contour\"}], \"contourcarpet\": [{\"colorbar\": {\"outlinewidth\": 0, \"ticks\": \"\"}, \"type\": \"contourcarpet\"}], \"heatmap\": [{\"colorbar\": {\"outlinewidth\": 0, \"ticks\": \"\"}, \"colorscale\": [[0.0, \"#0d0887\"], [0.1111111111111111, \"#46039f\"], [0.2222222222222222, \"#7201a8\"], [0.3333333333333333, \"#9c179e\"], [0.4444444444444444, \"#bd3786\"], [0.5555555555555556, \"#d8576b\"], [0.6666666666666666, \"#ed7953\"], [0.7777777777777778, \"#fb9f3a\"], [0.8888888888888888, \"#fdca26\"], [1.0, \"#f0f921\"]], \"type\": \"heatmap\"}], \"heatmapgl\": [{\"colorbar\": {\"outlinewidth\": 0, \"ticks\": \"\"}, \"colorscale\": [[0.0, \"#0d0887\"], [0.1111111111111111, \"#46039f\"], [0.2222222222222222, \"#7201a8\"], [0.3333333333333333, \"#9c179e\"], [0.4444444444444444, \"#bd3786\"], [0.5555555555555556, \"#d8576b\"], [0.6666666666666666, \"#ed7953\"], [0.7777777777777778, \"#fb9f3a\"], [0.8888888888888888, \"#fdca26\"], [1.0, \"#f0f921\"]], \"type\": \"heatmapgl\"}], \"histogram\": [{\"marker\": {\"colorbar\": {\"outlinewidth\": 0, \"ticks\": \"\"}}, \"type\": \"histogram\"}], \"histogram2d\": [{\"colorbar\": {\"outlinewidth\": 0, \"ticks\": \"\"}, \"colorscale\": [[0.0, \"#0d0887\"], [0.1111111111111111, \"#46039f\"], [0.2222222222222222, \"#7201a8\"], [0.3333333333333333, \"#9c179e\"], [0.4444444444444444, \"#bd3786\"], [0.5555555555555556, \"#d8576b\"], [0.6666666666666666, \"#ed7953\"], [0.7777777777777778, \"#fb9f3a\"], [0.8888888888888888, \"#fdca26\"], [1.0, \"#f0f921\"]], \"type\": \"histogram2d\"}], \"histogram2dcontour\": [{\"colorbar\": {\"outlinewidth\": 0, \"ticks\": \"\"}, \"colorscale\": [[0.0, \"#0d0887\"], [0.1111111111111111, \"#46039f\"], [0.2222222222222222, \"#7201a8\"], [0.3333333333333333, \"#9c179e\"], [0.4444444444444444, \"#bd3786\"], [0.5555555555555556, \"#d8576b\"], [0.6666666666666666, \"#ed7953\"], [0.7777777777777778, \"#fb9f3a\"], [0.8888888888888888, \"#fdca26\"], [1.0, \"#f0f921\"]], \"type\": \"histogram2dcontour\"}], \"mesh3d\": [{\"colorbar\": {\"outlinewidth\": 0, \"ticks\": \"\"}, \"type\": \"mesh3d\"}], \"parcoords\": [{\"line\": {\"colorbar\": {\"outlinewidth\": 0, \"ticks\": \"\"}}, \"type\": \"parcoords\"}], \"pie\": [{\"automargin\": true, \"type\": \"pie\"}], \"scatter\": [{\"marker\": {\"colorbar\": {\"outlinewidth\": 0, \"ticks\": \"\"}}, \"type\": \"scatter\"}], \"scatter3d\": [{\"line\": {\"colorbar\": {\"outlinewidth\": 0, \"ticks\": \"\"}}, \"marker\": {\"colorbar\": {\"outlinewidth\": 0, \"ticks\": \"\"}}, \"type\": \"scatter3d\"}], \"scattercarpet\": [{\"marker\": {\"colorbar\": {\"outlinewidth\": 0, \"ticks\": \"\"}}, \"type\": \"scattercarpet\"}], \"scattergeo\": [{\"marker\": {\"colorbar\": {\"outlinewidth\": 0, \"ticks\": \"\"}}, \"type\": \"scattergeo\"}], \"scattergl\": [{\"marker\": {\"colorbar\": {\"outlinewidth\": 0, \"ticks\": \"\"}}, \"type\": \"scattergl\"}], \"scattermapbox\": [{\"marker\": {\"colorbar\": {\"outlinewidth\": 0, \"ticks\": \"\"}}, \"type\": \"scattermapbox\"}], \"scatterpolar\": [{\"marker\": {\"colorbar\": {\"outlinewidth\": 0, \"ticks\": \"\"}}, \"type\": \"scatterpolar\"}], \"scatterpolargl\": [{\"marker\": {\"colorbar\": {\"outlinewidth\": 0, \"ticks\": \"\"}}, \"type\": \"scatterpolargl\"}], \"scatterternary\": [{\"marker\": {\"colorbar\": {\"outlinewidth\": 0, \"ticks\": \"\"}}, \"type\": \"scatterternary\"}], \"surface\": [{\"colorbar\": {\"outlinewidth\": 0, \"ticks\": \"\"}, \"colorscale\": [[0.0, \"#0d0887\"], [0.1111111111111111, \"#46039f\"], [0.2222222222222222, \"#7201a8\"], [0.3333333333333333, \"#9c179e\"], [0.4444444444444444, \"#bd3786\"], [0.5555555555555556, \"#d8576b\"], [0.6666666666666666, \"#ed7953\"], [0.7777777777777778, \"#fb9f3a\"], [0.8888888888888888, \"#fdca26\"], [1.0, \"#f0f921\"]], \"type\": \"surface\"}], \"table\": [{\"cells\": {\"fill\": {\"color\": \"#EBF0F8\"}, \"line\": {\"color\": \"white\"}}, \"header\": {\"fill\": {\"color\": \"#C8D4E3\"}, \"line\": {\"color\": \"white\"}}, \"type\": \"table\"}]}, \"layout\": {\"annotationdefaults\": {\"arrowcolor\": \"#2a3f5f\", \"arrowhead\": 0, \"arrowwidth\": 1}, \"coloraxis\": {\"colorbar\": {\"outlinewidth\": 0, \"ticks\": \"\"}}, \"colorscale\": {\"diverging\": [[0, \"#8e0152\"], [0.1, \"#c51b7d\"], [0.2, \"#de77ae\"], [0.3, \"#f1b6da\"], [0.4, \"#fde0ef\"], [0.5, \"#f7f7f7\"], [0.6, \"#e6f5d0\"], [0.7, \"#b8e186\"], [0.8, \"#7fbc41\"], [0.9, \"#4d9221\"], [1, \"#276419\"]], \"sequential\": [[0.0, \"#0d0887\"], [0.1111111111111111, \"#46039f\"], [0.2222222222222222, \"#7201a8\"], [0.3333333333333333, \"#9c179e\"], [0.4444444444444444, \"#bd3786\"], [0.5555555555555556, \"#d8576b\"], [0.6666666666666666, \"#ed7953\"], [0.7777777777777778, \"#fb9f3a\"], [0.8888888888888888, \"#fdca26\"], [1.0, \"#f0f921\"]], \"sequentialminus\": [[0.0, \"#0d0887\"], [0.1111111111111111, \"#46039f\"], [0.2222222222222222, \"#7201a8\"], [0.3333333333333333, \"#9c179e\"], [0.4444444444444444, \"#bd3786\"], [0.5555555555555556, \"#d8576b\"], [0.6666666666666666, \"#ed7953\"], [0.7777777777777778, \"#fb9f3a\"], [0.8888888888888888, \"#fdca26\"], [1.0, \"#f0f921\"]]}, \"colorway\": [\"#636efa\", \"#EF553B\", \"#00cc96\", \"#ab63fa\", \"#FFA15A\", \"#19d3f3\", \"#FF6692\", \"#B6E880\", \"#FF97FF\", \"#FECB52\"], \"font\": {\"color\": \"#2a3f5f\"}, \"geo\": {\"bgcolor\": \"white\", \"lakecolor\": \"white\", \"landcolor\": \"#E5ECF6\", \"showlakes\": true, \"showland\": true, \"subunitcolor\": \"white\"}, \"hoverlabel\": {\"align\": \"left\"}, \"hovermode\": \"closest\", \"mapbox\": {\"style\": \"light\"}, \"paper_bgcolor\": \"white\", \"plot_bgcolor\": \"#E5ECF6\", \"polar\": {\"angularaxis\": {\"gridcolor\": \"white\", \"linecolor\": \"white\", \"ticks\": \"\"}, \"bgcolor\": \"#E5ECF6\", \"radialaxis\": {\"gridcolor\": \"white\", \"linecolor\": \"white\", \"ticks\": \"\"}}, \"scene\": {\"xaxis\": {\"backgroundcolor\": \"#E5ECF6\", \"gridcolor\": \"white\", \"gridwidth\": 2, \"linecolor\": \"white\", \"showbackground\": true, \"ticks\": \"\", \"zerolinecolor\": \"white\"}, \"yaxis\": {\"backgroundcolor\": \"#E5ECF6\", \"gridcolor\": \"white\", \"gridwidth\": 2, \"linecolor\": \"white\", \"showbackground\": true, \"ticks\": \"\", \"zerolinecolor\": \"white\"}, \"zaxis\": {\"backgroundcolor\": \"#E5ECF6\", \"gridcolor\": \"white\", \"gridwidth\": 2, \"linecolor\": \"white\", \"showbackground\": true, \"ticks\": \"\", \"zerolinecolor\": \"white\"}}, \"shapedefaults\": {\"line\": {\"color\": \"#2a3f5f\"}}, \"ternary\": {\"aaxis\": {\"gridcolor\": \"white\", \"linecolor\": \"white\", \"ticks\": \"\"}, \"baxis\": {\"gridcolor\": \"white\", \"linecolor\": \"white\", \"ticks\": \"\"}, \"bgcolor\": \"#E5ECF6\", \"caxis\": {\"gridcolor\": \"white\", \"linecolor\": \"white\", \"ticks\": \"\"}}, \"title\": {\"x\": 0.05}, \"xaxis\": {\"automargin\": true, \"gridcolor\": \"white\", \"linecolor\": \"white\", \"ticks\": \"\", \"title\": {\"standoff\": 15}, \"zerolinecolor\": \"white\", \"zerolinewidth\": 2}, \"yaxis\": {\"automargin\": true, \"gridcolor\": \"white\", \"linecolor\": \"white\", \"ticks\": \"\", \"title\": {\"standoff\": 15}, \"zerolinecolor\": \"white\", \"zerolinewidth\": 2}}}, \"title\": {\"text\": \"\\u0420\\u0430\\u0441\\u043f\\u0440\\u0435\\u0434\\u0435\\u043b\\u043d\\u0438\\u0435 \\u0440\\u0435\\u043f\\u0440\\u0435\\u0441\\u0441\\u0438\\u0440\\u043e\\u0432\\u0430\\u043d\\u043d\\u044b\\u0445 \\u043f\\u043e \\u0438\\u043c\\u0435\\u043d\\u0438 (50 \\u0441\\u0430\\u043c\\u044b\\u0445 \\u0447\\u0430\\u0441\\u0442\\u043e \\u0432\\u0441\\u0442\\u0440\\u0435\\u0447\\u0430\\u044e\\u0449\\u0438\\u0445\\u0441\\u044f)\"}, \"xaxis\": {\"anchor\": \"y\", \"domain\": [0.0, 1.0], \"title\": {\"text\": \"\\u0438\\u043c\\u044f\"}}, \"yaxis\": {\"anchor\": \"x\", \"domain\": [0.0, 1.0], \"title\": {\"text\": \"\\u043a\\u043e\\u043b\\u0438\\u0447\\u0435\\u0441\\u0442\\u0432\\u043e\"}}},\n",
       "                        {\"responsive\": true}\n",
       "                    ).then(function(){\n",
       "                            \n",
       "var gd = document.getElementById('784a7acb-afa0-4965-a1e1-f57b611ced5d');\n",
       "var x = new MutationObserver(function (mutations, observer) {{\n",
       "        var display = window.getComputedStyle(gd).display;\n",
       "        if (!display || display === 'none') {{\n",
       "            console.log([gd, 'removed!']);\n",
       "            Plotly.purge(gd);\n",
       "            observer.disconnect();\n",
       "        }}\n",
       "}});\n",
       "\n",
       "// Listen for the removal of the full notebook cells\n",
       "var notebookContainer = gd.closest('#notebook-container');\n",
       "if (notebookContainer) {{\n",
       "    x.observe(notebookContainer, {childList: true});\n",
       "}}\n",
       "\n",
       "// Listen for the clearing of the current output cell\n",
       "var outputEl = gd.closest('.output');\n",
       "if (outputEl) {{\n",
       "    x.observe(outputEl, {childList: true});\n",
       "}}\n",
       "\n",
       "                        })\n",
       "                };\n",
       "                });\n",
       "            </script>\n",
       "        </div>"
      ]
     },
     "metadata": {},
     "output_type": "display_data"
    }
   ],
   "source": [
    "fig = px.bar(dfn['имя'].value_counts()[:50].reset_index().rename(columns={'имя':'количество', 'index':'имя'}), \n",
    "                   x=\"имя\", \n",
    "                   y=\"количество\",\n",
    "                   title='Распределние репрессированных по имени (50 самых часто встречающихся)')\n",
    "fig.update_layout(\n",
    "    yaxis_title_text='количество', # yaxis label\n",
    "\n",
    ")\n",
    "fig.show()"
   ]
  }
 ],
 "metadata": {
  "kernelspec": {
   "display_name": "Python 3",
   "language": "python",
   "name": "python3"
  },
  "language_info": {
   "codemirror_mode": {
    "name": "ipython",
    "version": 3
   },
   "file_extension": ".py",
   "mimetype": "text/x-python",
   "name": "python",
   "nbconvert_exporter": "python",
   "pygments_lexer": "ipython3",
   "version": "3.7.6"
  }
 },
 "nbformat": 4,
 "nbformat_minor": 4
}
